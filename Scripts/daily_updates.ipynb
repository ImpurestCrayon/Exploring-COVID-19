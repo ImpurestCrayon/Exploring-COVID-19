{
 "cells": [
  {
   "cell_type": "code",
   "execution_count": null,
   "metadata": {},
   "outputs": [],
   "source": [
    "#Libraries\n",
    "import os\n",
    "import glob\n",
    "import numpy as np\n",
    "import pandas as pd\n",
    "import matplotlib.pyplot as plt\n",
    "import seaborn as sns; sns.set()"
   ]
  },
  {
   "cell_type": "code",
   "execution_count": null,
   "metadata": {},
   "outputs": [],
   "source": [
    "#Before_Date\n",
    "#Set Variables and map to Folder\n",
    "import_path = 'C:/Users/ianmc/COVID-19/csse_covid_19_data/csse_covid_19_daily_reports/before_date'\n",
    "os.chdir(import_path)\n",
    "all_filenames = [i for i in glob.glob('*.{}'.format('CSV'))]\n",
    "print(all_filenames)\n",
    "#combine all files in the list\n",
    "data_before_date = pd.concat([pd.read_csv(f, low_memory=False) for f in all_filenames])\n",
    "#Change to new column name format\n",
    "data_before_date.columns = ['Province_State','Country_Region','Last_Update','Confirmed','Deaths','Recovered']\n",
    "#date time\n",
    "data_before_date['Last_Update'] = pd.to_datetime(data_before_date['Last_Update'])\n",
    "#view data info\n",
    "print(data_before_date.info())\n",
    "data_before_date.head()"
   ]
  },
  {
   "cell_type": "code",
   "execution_count": null,
   "metadata": {},
   "outputs": [],
   "source": [
    "#After_Date\n",
    "#Set Variables and map to Folder\n",
    "import_path = 'C:/Users/ianmc/COVID-19/csse_covid_19_data/csse_covid_19_daily_reports/after_date'\n",
    "os.chdir(import_path)\n",
    "all_filenames = [i for i in glob.glob('*.{}'.format('CSV'))]\n",
    "print(all_filenames)\n",
    "#combine all files in the list\n",
    "data_after_date = pd.concat([pd.read_csv(f, low_memory = False) for f in all_filenames])\n",
    "#Change to new column name format\n",
    "data_after_date.columns = ['Province_State','Country_Region','Last_Update','Confirmed','Deaths','Recovered','Lat','Long_']\n",
    "#date time\n",
    "data_after_date['Last_Update'] = pd.to_datetime(data_after_date['Last_Update'])\n",
    "#view data info\n",
    "print(data_after_date.info())\n",
    "data_after_date.head()"
   ]
  },
  {
   "cell_type": "code",
   "execution_count": null,
   "metadata": {},
   "outputs": [],
   "source": [
    "#After_Column\n",
    "#Set Variables and map to Folder\n",
    "import_path = 'C:/Users/ianmc/COVID-19/csse_covid_19_data/csse_covid_19_daily_reports'\n",
    "os.chdir(import_path)\n",
    "all_filenames = [i for i in glob.glob('*.{}'.format('CSV'))]\n",
    "print(all_filenames)\n",
    "#combine all files in the list\n",
    "data_after_column = pd.concat([pd.read_csv(f, low_memory=False) for f in all_filenames])\n",
    "#date time\n",
    "data_after_column['Last_Update'] = pd.to_datetime(data_after_column['Last_Update'])\n",
    "#view data info\n",
    "print(data_after_column.info())"
   ]
  },
  {
   "cell_type": "code",
   "execution_count": null,
   "metadata": {},
   "outputs": [],
   "source": [
    "#list of DataFrames and combine them\n",
    "my_df_list = [data_before_date,data_after_date,data_after_column]\n",
    "data_combined = pd.concat(my_df_list)"
   ]
  },
  {
   "cell_type": "code",
   "execution_count": null,
   "metadata": {},
   "outputs": [],
   "source": [
    "#Filtering down to just China and just date instead of date and time\n",
    "data_combined_china = data_combined[data_combined[\"Country_Region\"].str.contains('China', na=False)]\n",
    "data_combined_china[\"Last_Update\"] = pd.to_datetime(data_combined_china[\"Last_Update\"]).dt.date\n",
    "data_combined_china = data_combined_china.reset_index()\n",
    "data_combined_china = data_combined_china.drop('index', axis=1)\n",
    "print(data_combined_china.info())\n",
    "data_combined_china.tail()"
   ]
  },
  {
   "cell_type": "code",
   "execution_count": null,
   "metadata": {},
   "outputs": [],
   "source": [
    "#Make pretty\n",
    "sns.set(style=\"darkgrid\")\n",
    "\n",
    "#Plot the responses for different events and regions\n",
    "#\"Open to and change to code. Still trying to get it like I want might just use matplotlib.pyplt instead. -Ian\"\n",
    "china_plot = sns.lineplot(x='Last_Update', y='Confirmed', data=data_combined_china)\n",
    "dates = data_combined_china['Last_Update'].sort_values().unique()\n",
    "china_plot.set_xticklabels(labels=dates, rotation=45, ha='right')"
   ]
  },
  {
   "cell_type": "code",
   "execution_count": null,
   "metadata": {},
   "outputs": [],
   "source": [
    "# Load the example flights dataset and convert to long-form\n",
    "COVID = data_combined_china.pivot(\"Last_Update\", \"Confirmed\")\n",
    "\n",
    "# Draw a heatmap with the numeric values in each cell\n",
    "f, ax = plt.subplots(figsize=(9, 6))\n",
    "sns.heatmap(COVID, annot=True, fmt=\"d\", linewidths=.5, ax=ax)"
   ]
  }
 ],
 "metadata": {
  "language_info": {
   "codemirror_mode": {
    "name": "ipython",
    "version": 3
   },
   "file_extension": ".py",
   "mimetype": "text/x-python",
   "name": "python",
   "nbconvert_exporter": "python",
   "pygments_lexer": "ipython3",
   "version": 3
  },
  "orig_nbformat": 2
 },
 "nbformat": 4,
 "nbformat_minor": 2
}
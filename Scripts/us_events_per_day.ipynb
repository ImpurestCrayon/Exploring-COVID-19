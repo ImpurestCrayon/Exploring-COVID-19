{
 "cells": [
  {
   "cell_type": "code",
   "execution_count": null,
   "metadata": {},
   "outputs": [],
   "source": [
    "#Libraries\n",
    "import pandas as pd\n",
    "import numpy as np\n",
    "import glob\n",
    "import os"
   ]
  },
  {
   "cell_type": "code",
   "execution_count": null,
   "metadata": {},
   "outputs": [],
   "source": [
    "#Set Variables and map to Folder\n",
    "import_path = 'C:/Users/ianmc/OneDrive/Documents/Work/Data/news_blogs_coronavirus'\n",
    "os.chdir(import_path)\n",
    "all_filenames = [i for i in glob.glob('*.{}'.format('JSON'))]\n",
    "print(all_filenames)\n",
    "\n",
    "#Read in file(s)\n",
    "json_data = pd.concat((pd.read_json(f,orient='columns', lines=True) for f in all_filenames), ignore_index=True)\n",
    "#json_data = pd.read_json(all_filenames[0], lines=True)"
   ]
  },
  {
   "cell_type": "code",
   "execution_count": null,
   "metadata": {},
   "outputs": [],
   "source": [
    "#Drop Unsused Columns to run faster\n",
    "unused_columns = ['organizations', 'uuid', 'author', 'url', 'ord_in_thread','title', 'locations', 'entities',\n",
    "                  'highlightText', 'language','persons', 'text', 'external_links', 'crawled','highlightTitle']\n",
    "json_data.drop(unused_columns, axis=1)\n",
    "\n",
    "#change date columns to show just date\n",
    "json_data['published'] = pd.to_datetime(json_data['published']).dt.date\n",
    "#json_data['crawled'] = pd.to_datetime(json_data['crawled']).dt.date #Not using this column\n",
    "\n",
    "#filter to just US\n",
    "#for decmeber which only had 1 thread per entry\n",
    "us_json_data = json_data[pd.Series(json_data['thread'][rn]['country'] for rn in np.arange(json_data.shape[0])).str.contains('US', na=False)]\n",
    "\n",
    "#add a column with a value of 1 to count the reports per a day\n",
    "us_json_data.insert(column='count', loc=1, value=1)\n",
    "\n",
    "#create a second table pivotiting on dates to count the reports per a day\n",
    "us_count_per_day = us_json_data.pivot_table( values='count', index='published', aggfunc=np.sum)"
   ]
  },
  {
   "cell_type": "code",
   "execution_count": null,
   "metadata": {},
   "outputs": [],
   "source": [
    "#Example plot for data\n",
    "import matplotlib.pyplot as plt\n",
    "\n",
    "x = us_count_per_day.reset_index()['published']\n",
    "y = us_count_per_day.reset_index()['count']\n",
    "labels = us_count_per_day.reset_index()['published']\n",
    "\n",
    "plt.plot(x, y)\n",
    "plt.xticks(x, labels, rotation='90')\n",
    "plt.subplots_adjust(bottom=0.15)\n",
    "plt.show()"
   ]
  },
  {
   "cell_type": "code",
   "execution_count": null,
   "metadata": {},
   "outputs": [],
   "source": [
    "export_path = 'C:/Users/ianmc/OneDrive/Documents/Work/Data/news_blogs_coronavirus/IEEE_US_Counts_2020_02.csv'\n",
    "us_count_per_day.to_csv((export_path), index = True, header = True, encoding='utf-8-sig')"
   ]
  }
 ],
 "metadata": {
  "language_info": {
   "codemirror_mode": {
    "name": "ipython",
    "version": 3
   },
   "file_extension": ".py",
   "mimetype": "text/x-python",
   "name": "python",
   "nbconvert_exporter": "python",
   "pygments_lexer": "ipython3",
   "version": 3
  },
  "orig_nbformat": 2
 },
 "nbformat": 4,
 "nbformat_minor": 2
}